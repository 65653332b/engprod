{
 "cells": [
  {
   "cell_type": "code",
   "execution_count": null,
   "id": "1532578d",
   "metadata": {},
   "outputs": [],
   "source": [
    "Protótipo de automação de vendas."
   ]
  },
  {
   "cell_type": "code",
   "execution_count": 1,
   "id": "1b721fb1",
   "metadata": {},
   "outputs": [
    {
     "name": "stdout",
     "output_type": "stream",
     "text": [
      "Collecting pyautogui\n",
      "  Downloading PyAutoGUI-0.9.53.tar.gz (59 kB)\n",
      "Collecting pymsgbox\n",
      "  Downloading PyMsgBox-1.0.9.tar.gz (18 kB)\n",
      "  Installing build dependencies: started\n",
      "  Installing build dependencies: finished with status 'done'\n",
      "  Getting requirements to build wheel: started\n",
      "  Getting requirements to build wheel: finished with status 'done'\n",
      "    Preparing wheel metadata: started\n",
      "    Preparing wheel metadata: finished with status 'done'\n",
      "Collecting PyTweening>=1.0.1\n",
      "  Downloading pytweening-1.0.5.tar.gz (168 kB)\n",
      "  Installing build dependencies: started\n",
      "  Installing build dependencies: finished with status 'done'\n",
      "  Getting requirements to build wheel: started\n",
      "  Getting requirements to build wheel: finished with status 'done'\n",
      "  Installing backend dependencies: started\n",
      "  Installing backend dependencies: finished with status 'done'\n",
      "    Preparing wheel metadata: started\n",
      "    Preparing wheel metadata: finished with status 'done'\n",
      "Collecting pyscreeze>=0.1.21\n",
      "  Downloading PyScreeze-0.1.28.tar.gz (25 kB)\n",
      "  Installing build dependencies: started\n",
      "  Installing build dependencies: finished with status 'done'\n",
      "  Getting requirements to build wheel: started\n",
      "  Getting requirements to build wheel: finished with status 'done'\n",
      "    Preparing wheel metadata: started\n",
      "    Preparing wheel metadata: finished with status 'done'\n",
      "Collecting pygetwindow>=0.0.5\n",
      "  Downloading PyGetWindow-0.0.9.tar.gz (9.7 kB)\n",
      "Collecting mouseinfo\n",
      "  Downloading MouseInfo-0.1.3.tar.gz (10 kB)\n",
      "Collecting pyrect\n",
      "  Downloading PyRect-0.2.0.tar.gz (17 kB)\n",
      "Collecting pyperclip\n",
      "  Downloading pyperclip-1.8.2.tar.gz (20 kB)\n",
      "Building wheels for collected packages: pyautogui, pygetwindow, pyscreeze, PyTweening, mouseinfo, pymsgbox, pyperclip, pyrect\n",
      "  Building wheel for pyautogui (setup.py): started\n",
      "  Building wheel for pyautogui (setup.py): finished with status 'done'\n",
      "  Created wheel for pyautogui: filename=PyAutoGUI-0.9.53-py3-none-any.whl size=36614 sha256=ca00001d1646493e0cbd1034b0f4ac8b38ed559a223bc0deceab4361320226b0\n",
      "  Stored in directory: c:\\users\\administrador\\appdata\\local\\pip\\cache\\wheels\\d8\\97\\e4\\d2edca92a87d3b5fbfb527264750a17b4ba297b9a7cab6e67f\n",
      "  Building wheel for pygetwindow (setup.py): started\n",
      "  Building wheel for pygetwindow (setup.py): finished with status 'done'\n",
      "  Created wheel for pygetwindow: filename=PyGetWindow-0.0.9-py3-none-any.whl size=11081 sha256=89009b8e8ad4552bb042da59adcffd92034020a3b4f131560227bb74a86899c4\n",
      "  Stored in directory: c:\\users\\administrador\\appdata\\local\\pip\\cache\\wheels\\44\\ab\\20\\423c3a444793767e4e41f8377bc902f77bee212e68dcce85a5\n",
      "  Building wheel for pyscreeze (PEP 517): started\n",
      "  Building wheel for pyscreeze (PEP 517): finished with status 'done'\n",
      "  Created wheel for pyscreeze: filename=PyScreeze-0.1.28-py3-none-any.whl size=13026 sha256=6f6b0e5a3b973ac4b93e7d986bab865c3b1aab48892687a00b3d47ebc5bbc19d\n",
      "  Stored in directory: c:\\users\\administrador\\appdata\\local\\pip\\cache\\wheels\\a2\\5b\\86\\99f1d8fac5d92de0ccb3f0d4ad15e3f4278baf75a9b0f20b93\n",
      "  Building wheel for PyTweening (PEP 517): started\n",
      "  Building wheel for PyTweening (PEP 517): finished with status 'done'\n",
      "  Created wheel for PyTweening: filename=pytweening-1.0.5-py3-none-any.whl size=6864 sha256=4588666ecb821611100c63dc34e84f4848c076db59e9218e48761cf084ab1de2\n",
      "  Stored in directory: c:\\users\\administrador\\appdata\\local\\pip\\cache\\wheels\\f2\\11\\58\\778dff766bdaf150afba3611e19eec578fd540ae214327d171\n",
      "  Building wheel for mouseinfo (setup.py): started\n",
      "  Building wheel for mouseinfo (setup.py): finished with status 'done'\n",
      "  Created wheel for mouseinfo: filename=MouseInfo-0.1.3-py3-none-any.whl size=10906 sha256=f1a669c84557f492bbfac40b4d31729868ca8b2a910eade803b7e260b45ad0b4\n",
      "  Stored in directory: c:\\users\\administrador\\appdata\\local\\pip\\cache\\wheels\\61\\73\\b9\\6fb1131ab36e650206e3aa0ad7a68907b41b32ac2d4f75f543\n",
      "  Building wheel for pymsgbox (PEP 517): started\n",
      "  Building wheel for pymsgbox (PEP 517): finished with status 'done'\n",
      "  Created wheel for pymsgbox: filename=PyMsgBox-1.0.9-py3-none-any.whl size=7417 sha256=c975b5b30dffc261bcbc65c33e829c1d1db1d33bf9a306484ac62b43f0b1f660\n",
      "  Stored in directory: c:\\users\\administrador\\appdata\\local\\pip\\cache\\wheels\\7f\\13\\8c\\584c519464297d9637f9cd29fd1dcdf55e2a2cab225c76a2db\n",
      "  Building wheel for pyperclip (setup.py): started\n",
      "  Building wheel for pyperclip (setup.py): finished with status 'done'\n",
      "  Created wheel for pyperclip: filename=pyperclip-1.8.2-py3-none-any.whl size=11137 sha256=a067e2d93b8ffa88b2099b5399dbda0e9710907043e12b062d47ab08a631bccb\n",
      "  Stored in directory: c:\\users\\administrador\\appdata\\local\\pip\\cache\\wheels\\0c\\09\\9e\\49e21a6840ef7955b06d47394afef0058f0378c0914e48b8b8\n",
      "  Building wheel for pyrect (setup.py): started\n",
      "  Building wheel for pyrect (setup.py): finished with status 'done'\n",
      "  Created wheel for pyrect: filename=PyRect-0.2.0-py2.py3-none-any.whl size=11196 sha256=bc33592b971541f01706a7e33b2c35954e962490f87f3d68410eef4c1c8d5578\n",
      "  Stored in directory: c:\\users\\administrador\\appdata\\local\\pip\\cache\\wheels\\25\\80\\fa\\27bb4a1c2e21f64ec71390489d52e57b7cc8afbe79bd595c5e\n",
      "Successfully built pyautogui pygetwindow pyscreeze PyTweening mouseinfo pymsgbox pyperclip pyrect\n",
      "Installing collected packages: pyrect, pyperclip, PyTweening, pyscreeze, pymsgbox, pygetwindow, mouseinfo, pyautogui\n",
      "Successfully installed PyTweening-1.0.5 mouseinfo-0.1.3 pyautogui-0.9.53 pygetwindow-0.0.9 pymsgbox-1.0.9 pyperclip-1.8.2 pyrect-0.2.0 pyscreeze-0.1.28\n"
     ]
    }
   ],
   "source": [
    "#!pip install pyautogui\n"
   ]
  },
  {
   "cell_type": "code",
   "execution_count": 2,
   "id": "a9618833",
   "metadata": {},
   "outputs": [
    {
     "name": "stdout",
     "output_type": "stream",
     "text": [
      "Automatizando com Python\n"
     ]
    }
   ],
   "source": [
    "print(\"Automatizando com Python\")\n",
    "import time\n",
    "import pyautogui\n",
    "import pyperclip\n",
    "# O Python usando teclado - 1 - Abrir o navegador Chrome\n",
    "pyautogui.PAUSE=1 # Pausa por 1 segundo a cada comando - Tempo para sincronizar cada linha de execução\n",
    "#pyautogui.alert(\"Enquanto executa, não interaja com o teclado e mouse!\")\n",
    "pyautogui.press(\"winleft\") # Abre o menu iniciar do windows\n",
    "pyautogui.write(\"Chrome\") # Insere Chrome na caixa de diálogo do menu (pode ser qualquer navegador)\n",
    "pyautogui.press(\"Enter\") # Rodando navegador\n",
    "time.sleep(5) # Segura 5 segundos para sincronismo necessário à execução da abertura da página\n",
    "pyautogui.hotkey('Alt',' ','x') # Expande janela do navegador\n",
    "time.sleep(5) # Segura 5 segundos para sincronismo necessário à execução da abertura da página\n",
    "pyautogui.hotkey('ctrl', 't') # Abre uma nova aba no navegador\n",
    "# usando a variável local para guardar o endereço do arquivo planilha compartilhado\n",
    "local=\"https://docs.google.com/spreadsheets/d/1HCelj61LZrmSG3JOD4PJCyi24MiJz981I7JWJdx3FDw/edit?usp=sharing\"\n",
    "pyperclip.copy(local); # copia para área de memória do sistema o endereço na variável - CTRL + C\n",
    "pyautogui.hotkey(\"ctrl\",\"v\") # Colando o endereço da memória do sistema no navegador - CTRL + V\n",
    "pyautogui.press(\"Enter\") # Rodando a planilha no navegador\n",
    "time.sleep(3) # Segura 3 segundos para sincronismo necessário à execução da abertura da página"
   ]
  },
  {
   "cell_type": "code",
   "execution_count": null,
   "id": "fafae8f4",
   "metadata": {},
   "outputs": [],
   "source": []
  }
 ],
 "metadata": {
  "kernelspec": {
   "display_name": "Python 3 (ipykernel)",
   "language": "python",
   "name": "python3"
  },
  "language_info": {
   "codemirror_mode": {
    "name": "ipython",
    "version": 3
   },
   "file_extension": ".py",
   "mimetype": "text/x-python",
   "name": "python",
   "nbconvert_exporter": "python",
   "pygments_lexer": "ipython3",
   "version": "3.9.12"
  }
 },
 "nbformat": 4,
 "nbformat_minor": 5
}
